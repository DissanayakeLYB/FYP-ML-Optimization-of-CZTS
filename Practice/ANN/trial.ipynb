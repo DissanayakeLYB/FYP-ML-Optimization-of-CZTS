{
 "cells": [
  {
   "cell_type": "code",
   "execution_count": 1,
   "metadata": {},
   "outputs": [],
   "source": [
    "#environment\n",
    "\n",
    "import numpy as np\n",
    "import matplotlib.pyplot as plt\n",
    "import tensorflow as tf\n",
    "from tensorflow.keras.layers import Dense, Input\n",
    "from tensorflow.keras import Sequential\n",
    "from tensorflow.keras.losses import MeanSquaredError, BinaryCrossentropy\n",
    "from tensorflow.keras.activations import sigmoid\n"
   ]
  },
  {
   "cell_type": "markdown",
   "metadata": {},
   "source": [
    "Building a Neural Network with TensorFlow\n"
   ]
  },
  {
   "cell_type": "code",
   "execution_count": 2,
   "metadata": {},
   "outputs": [],
   "source": [
    "#preparing training data\n",
    "x_train = np.array([[90,5,2,3],[80,10,5,5],[70,10,3,17],[20,20,20,40]])\n",
    "y_train = np.array([60,50,80,40])"
   ]
  },
  {
   "cell_type": "markdown",
   "metadata": {},
   "source": [
    "Building a Neural Network with TensorFlow (Common Method)\n"
   ]
  },
  {
   "cell_type": "code",
   "execution_count": 3,
   "metadata": {},
   "outputs": [],
   "source": [
    "model = Sequential([\n",
    "    Dense(units = 8, activation='sigmoid', name='layer1'),  #layer 1\n",
    "    Dense(units = 1, activation='sigmoid', name='layer2')  #layer 2\n",
    "])"
   ]
  },
  {
   "cell_type": "code",
   "execution_count": 4,
   "metadata": {},
   "outputs": [
    {
     "name": "stdout",
     "output_type": "stream",
     "text": [
      "W1(4, 8):\n",
      " [[0. 0. 0. 0. 0. 0. 0. 0.]\n",
      " [0. 0. 0. 0. 0. 0. 0. 0.]\n",
      " [0. 0. 0. 0. 0. 0. 0. 0.]\n",
      " [0. 0. 0. 0. 0. 0. 0. 0.]] \n",
      "b1(4, 1): [[0.]\n",
      " [0.]\n",
      " [0.]\n",
      " [0.]]\n",
      "W2(8, 1):\n",
      " [[0.]\n",
      " [0.]\n",
      " [0.]\n",
      " [0.]\n",
      " [0.]\n",
      " [0.]\n",
      " [0.]\n",
      " [0.]] \n",
      "b2(1, 1): [[0.]]\n"
     ]
    }
   ],
   "source": [
    "W1 = np.zeros((4,8))\n",
    "b1 = np.zeros((4,1))\n",
    "W2 = np.zeros((8,1))\n",
    "b2 = np.zeros((1,1))\n",
    "\n",
    "print(f\"W1{W1.shape}:\\n\", W1, f\"\\nb1{b1.shape}:\", b1)\n",
    "print(f\"W2{W2.shape}:\\n\", W2, f\"\\nb2{b2.shape}:\", b2)"
   ]
  },
  {
   "cell_type": "code",
   "execution_count": 5,
   "metadata": {},
   "outputs": [],
   "source": [
    "#preparing training data\n",
    "x_train = np.array([[90,5,2,3],[80,10,5,5],[70,10,3,17],[20,20,20,40]])\n",
    "y_train = np.array([60,50,80,40])"
   ]
  },
  {
   "cell_type": "code",
   "execution_count": 6,
   "metadata": {},
   "outputs": [
    {
     "name": "stdout",
     "output_type": "stream",
     "text": [
      "Epoch 1/10\n",
      "1/1 [==============================] - 1s 1s/step - loss: 1.2765\n",
      "Epoch 2/10\n",
      "1/1 [==============================] - 0s 15ms/step - loss: -1.2500\n",
      "Epoch 3/10\n",
      "1/1 [==============================] - 0s 24ms/step - loss: -3.9730\n",
      "Epoch 4/10\n",
      "1/1 [==============================] - 0s 12ms/step - loss: -7.0865\n",
      "Epoch 5/10\n",
      "1/1 [==============================] - 0s 4ms/step - loss: -10.8861\n",
      "Epoch 6/10\n",
      "1/1 [==============================] - 0s 7ms/step - loss: -15.6772\n",
      "Epoch 7/10\n",
      "1/1 [==============================] - 0s 0s/step - loss: -21.4837\n",
      "Epoch 8/10\n",
      "1/1 [==============================] - 0s 15ms/step - loss: -27.7210\n",
      "Epoch 9/10\n",
      "1/1 [==============================] - 0s 0s/step - loss: -33.4225\n",
      "Epoch 10/10\n",
      "1/1 [==============================] - 0s 14ms/step - loss: -38.1583\n"
     ]
    },
    {
     "data": {
      "text/plain": [
       "<keras.src.callbacks.History at 0x23552dc65d0>"
      ]
     },
     "execution_count": 6,
     "metadata": {},
     "output_type": "execute_result"
    }
   ],
   "source": [
    "model.compile(\n",
    "    loss = tf.keras.losses.BinaryCrossentropy(),\n",
    "    optimizer = tf.keras.optimizers.Adam(learning_rate=0.01),\n",
    ")\n",
    "\n",
    "model.fit(\n",
    "    x_train,\n",
    "    y_train,            \n",
    "    epochs=10,\n",
    ")"
   ]
  },
  {
   "cell_type": "code",
   "execution_count": 7,
   "metadata": {},
   "outputs": [
    {
     "name": "stdout",
     "output_type": "stream",
     "text": [
      "W1:\n",
      " [[-0.34750903 -0.17201863 -0.2597354  -0.07948302 -0.4392262  -0.35063806\n",
      "   0.386522    0.66776556]\n",
      " [-0.63888603  0.72168374 -0.14487436  0.16905186  0.32087788  0.23571053\n",
      "   0.56205434 -0.1382948 ]\n",
      " [-0.06296754  0.4521141   0.25386629  0.4504937  -0.31182376 -0.5926968\n",
      "   0.22226542 -0.416159  ]\n",
      " [-0.570184    0.39857864 -0.460649    0.2100121  -0.45505315 -0.50882125\n",
      "   0.6906484   0.27303487]] \n",
      "b1: [-1.3688117e-10  8.8765800e-02 -1.0301565e-03 -9.3539812e-02\n",
      "  1.6188839e-07  2.7627600e-08  0.0000000e+00  5.9694234e-02]\n",
      "W2:\n",
      " [[-0.5799614 ]\n",
      " [ 0.83907914]\n",
      " [-0.48148388]\n",
      " [-0.09616147]\n",
      " [ 0.10166947]\n",
      " [ 0.69830453]\n",
      " [-0.2835673 ]\n",
      " [ 0.5386459 ]] \n",
      "b2: [0.09999046]\n"
     ]
    }
   ],
   "source": [
    "W1, b1 = model.get_layer(\"layer1\").get_weights()\n",
    "W2, b2 = model.get_layer(\"layer2\").get_weights()\n",
    "print(\"W1:\\n\", W1, \"\\nb1:\", b1)\n",
    "print(\"W2:\\n\", W2, \"\\nb2:\", b2)"
   ]
  },
  {
   "cell_type": "code",
   "execution_count": 8,
   "metadata": {},
   "outputs": [],
   "source": [
    "w = np.array([[1,-3,5],[2,4,-6]])"
   ]
  },
  {
   "cell_type": "code",
   "execution_count": 9,
   "metadata": {},
   "outputs": [
    {
     "name": "stdout",
     "output_type": "stream",
     "text": [
      "[1 2]\n"
     ]
    }
   ],
   "source": [
    "print(w[:,0])"
   ]
  },
  {
   "cell_type": "code",
   "execution_count": null,
   "metadata": {},
   "outputs": [],
   "source": []
  }
 ],
 "metadata": {
  "kernelspec": {
   "display_name": "Python 3",
   "language": "python",
   "name": "python3"
  },
  "language_info": {
   "codemirror_mode": {
    "name": "ipython",
    "version": 3
   },
   "file_extension": ".py",
   "mimetype": "text/x-python",
   "name": "python",
   "nbconvert_exporter": "python",
   "pygments_lexer": "ipython3",
   "version": "3.11.6"
  }
 },
 "nbformat": 4,
 "nbformat_minor": 2
}
