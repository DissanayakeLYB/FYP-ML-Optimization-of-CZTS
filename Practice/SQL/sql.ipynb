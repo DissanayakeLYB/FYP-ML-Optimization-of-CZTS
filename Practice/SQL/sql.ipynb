{
 "cells": [
  {
   "cell_type": "markdown",
   "metadata": {},
   "source": [
    "# SQL & SQLite"
   ]
  },
  {
   "cell_type": "markdown",
   "metadata": {},
   "source": [
    "SQL (Structured Query Language) is a standard language for managing and manupulating relational databases.\n",
    "\n",
    "SQLite is a self-contained, serverless, and zero-configuration databases enginer that is widely used for embedded database systems. In this lesson, we will cover the basics of SQL and SQLite, including creating databases, tables, and performing various SQL operations"
   ]
  },
  {
   "cell_type": "code",
   "execution_count": 81,
   "metadata": {},
   "outputs": [],
   "source": [
    "import sqlite3"
   ]
  },
  {
   "cell_type": "code",
   "execution_count": 82,
   "metadata": {},
   "outputs": [
    {
     "data": {
      "text/plain": [
       "<sqlite3.Connection at 0x26d9ae15d50>"
      ]
     },
     "execution_count": 82,
     "metadata": {},
     "output_type": "execute_result"
    }
   ],
   "source": [
    "# connect to an SQLite database (creating)\n",
    "\n",
    "connection = sqlite3.connect('example.db')\n",
    "connection"
   ]
  },
  {
   "cell_type": "code",
   "execution_count": 83,
   "metadata": {},
   "outputs": [],
   "source": [
    "cursor = connection.cursor()"
   ]
  },
  {
   "cell_type": "code",
   "execution_count": 84,
   "metadata": {},
   "outputs": [],
   "source": [
    "# create a table\n",
    "\n",
    "cursor.execute(\"\"\"\n",
    "CREATE TABLE IF NOT EXISTS employees(\n",
    "    id INTEGER PRIMARY KEY,\n",
    "    name TEXT NOT NULL,\n",
    "    age INTEGER,\n",
    "    department TEXT\n",
    "    )\n",
    "\"\"\")\n",
    "\n",
    "\n",
    "# commit the changes\n",
    "connection.commit()"
   ]
  },
  {
   "cell_type": "code",
   "execution_count": 85,
   "metadata": {},
   "outputs": [
    {
     "data": {
      "text/plain": [
       "<sqlite3.Cursor at 0x26d9b0083c0>"
      ]
     },
     "execution_count": 85,
     "metadata": {},
     "output_type": "execute_result"
    }
   ],
   "source": [
    "cursor.execute(\"\"\"\n",
    "SELECT * FROM employees\n",
    "\"\"\")"
   ]
  },
  {
   "cell_type": "code",
   "execution_count": 86,
   "metadata": {},
   "outputs": [],
   "source": [
    "# insert the data in sqlite table\n",
    "cursor.execute(\"\"\"\n",
    "INSERT INTO employees(name, age, department)\n",
    "VALUES (\"Bob\", 26, \"ENTC\")\n",
    "\"\"\"\n",
    ")\n",
    "\n",
    "cursor.execute(\"\"\"\n",
    "INSERT INTO employees(name, age, department)\n",
    "VALUES (\"Mark\", 20, \"MSE\")\n",
    "\"\"\"\n",
    ")\n",
    "\n",
    "cursor.execute(\"\"\"\n",
    "INSERT INTO employees(name, age, department)\n",
    "VALUES (\"John\", 25, \"CSE\")\n",
    "\"\"\"\n",
    ")\n",
    "\n",
    "connection.commit()"
   ]
  },
  {
   "cell_type": "code",
   "execution_count": 87,
   "metadata": {},
   "outputs": [
    {
     "name": "stdout",
     "output_type": "stream",
     "text": [
      "(1, 'Bob', 26, 'ENTC')\n",
      "(2, 'Mark', 20, 'MSE')\n",
      "(3, 'John', 25, 'CSE')\n"
     ]
    }
   ],
   "source": [
    "## query the data from the table\n",
    "\n",
    "cursor.execute(\"SELECT * FROM employees\")\n",
    "rows = cursor.fetchall()\n",
    "\n",
    "# print the queried data\n",
    "\n",
    "for row in rows:\n",
    "    print(row)"
   ]
  },
  {
   "cell_type": "code",
   "execution_count": 88,
   "metadata": {},
   "outputs": [],
   "source": [
    "# update the data in the table\n",
    "cursor.execute(\"\"\"\n",
    "UPDATE employees\n",
    "SET age = 34\n",
    "WHERE name = \"Bob\"\n",
    "\"\"\")\n",
    "\n",
    "connection.commit()"
   ]
  },
  {
   "cell_type": "code",
   "execution_count": 89,
   "metadata": {},
   "outputs": [
    {
     "name": "stdout",
     "output_type": "stream",
     "text": [
      "(1, 'Bob', 34, 'ENTC')\n",
      "(2, 'Mark', 20, 'MSE')\n",
      "(3, 'John', 25, 'CSE')\n"
     ]
    }
   ],
   "source": [
    "## query the data from the table\n",
    "\n",
    "cursor.execute(\"SELECT * FROM employees\")\n",
    "rows = cursor.fetchall()\n",
    "\n",
    "# print the queried data\n",
    "\n",
    "for row in rows:\n",
    "    print(row)"
   ]
  },
  {
   "cell_type": "code",
   "execution_count": 90,
   "metadata": {},
   "outputs": [],
   "source": [
    "# delete the data from the table\n",
    "\n",
    "cursor.execute(\"\"\"\n",
    "DELETE FROM employees\n",
    "WHERE name = 'Bob'\n",
    "\"\"\")\n",
    "\n",
    "connection.commit()"
   ]
  },
  {
   "cell_type": "code",
   "execution_count": 91,
   "metadata": {},
   "outputs": [
    {
     "name": "stdout",
     "output_type": "stream",
     "text": [
      "(2, 'Mark', 20, 'MSE')\n",
      "(3, 'John', 25, 'CSE')\n"
     ]
    }
   ],
   "source": [
    "## query the data from the table\n",
    "\n",
    "cursor.execute(\"SELECT * FROM employees\")\n",
    "rows = cursor.fetchall()\n",
    "\n",
    "# print the queried data\n",
    "\n",
    "for row in rows:\n",
    "    print(row)"
   ]
  },
  {
   "cell_type": "code",
   "execution_count": null,
   "metadata": {},
   "outputs": [],
   "source": []
  },
  {
   "cell_type": "markdown",
   "metadata": {},
   "source": [
    "# Project - Sales Data"
   ]
  },
  {
   "cell_type": "code",
   "execution_count": 103,
   "metadata": {},
   "outputs": [
    {
     "data": {
      "text/plain": [
       "<sqlite3.Cursor at 0x26d9bcc4740>"
      ]
     },
     "execution_count": 103,
     "metadata": {},
     "output_type": "execute_result"
    }
   ],
   "source": [
    "# working with sales data\n",
    "# connect to an SQLite database\n",
    "connection = sqlite3.connect('sales_data.db')\n",
    "cursor = connection.cursor()\n",
    "\n",
    "# create a table for sales data\n",
    "cursor.execute(\"\"\"\n",
    "CREATE TABLE IF NOT EXISTS sales(\n",
    "    id INTEGER PRIMARY KEY,\n",
    "    date TEXT NOT NULL,\n",
    "    product TEXT NOT NULL,\n",
    "    sales INTEGER,\n",
    "    region TEXT\n",
    "    )\n",
    "\"\"\")"
   ]
  },
  {
   "cell_type": "code",
   "execution_count": 104,
   "metadata": {},
   "outputs": [],
   "source": [
    "# insert data into the sales table\n",
    "sales_data = [\n",
    "    ('2023-01-01', 'Product01', 100, 'North'),\n",
    "    ('2023-01-02', 'Product02', 200, 'South'),\n",
    "    ('2023-01-03', 'Product01', 150, 'East'),\n",
    "    ('2023-01-04', 'Product03', 250, 'West'),\n",
    "    ('2023-01-05', 'Product02', 300, 'North')\n",
    "]\n",
    "\n",
    "connection.commit()"
   ]
  },
  {
   "cell_type": "code",
   "execution_count": 105,
   "metadata": {},
   "outputs": [],
   "source": [
    "cursor.executemany('''\n",
    "INSERT INTO sales(date, product, sales, region)\n",
    "                   values(?,?,?,?)\n",
    "''', sales_data)\n",
    "\n",
    "connection.commit()"
   ]
  },
  {
   "cell_type": "code",
   "execution_count": 106,
   "metadata": {},
   "outputs": [
    {
     "name": "stdout",
     "output_type": "stream",
     "text": [
      "(1, '2023-01-01', 'Product01', 100, 'North')\n",
      "(2, '2023-01-02', 'Product02', 200, 'South')\n",
      "(3, '2023-01-03', 'Product01', 150, 'East')\n",
      "(4, '2023-01-04', 'Product03', 250, 'West')\n",
      "(5, '2023-01-05', 'Product02', 300, 'North')\n"
     ]
    }
   ],
   "source": [
    "#query data from the sales table\n",
    "cursor.execute('SELECT * FROM sales')\n",
    "rows = cursor.fetchall()\n",
    "\n",
    "# print the queried data\n",
    "for row in rows:\n",
    "    print(row)"
   ]
  },
  {
   "cell_type": "code",
   "execution_count": 107,
   "metadata": {},
   "outputs": [],
   "source": [
    "# close the connection\n",
    "connection.close()"
   ]
  },
  {
   "cell_type": "code",
   "execution_count": null,
   "metadata": {},
   "outputs": [],
   "source": []
  }
 ],
 "metadata": {
  "kernelspec": {
   "display_name": "Python 3",
   "language": "python",
   "name": "python3"
  },
  "language_info": {
   "codemirror_mode": {
    "name": "ipython",
    "version": 3
   },
   "file_extension": ".py",
   "mimetype": "text/x-python",
   "name": "python",
   "nbconvert_exporter": "python",
   "pygments_lexer": "ipython3",
   "version": "3.12.5"
  }
 },
 "nbformat": 4,
 "nbformat_minor": 2
}
