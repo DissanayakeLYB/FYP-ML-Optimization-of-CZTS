{
 "cells": [
  {
   "cell_type": "code",
   "execution_count": 6,
   "metadata": {},
   "outputs": [],
   "source": [
    "#evironment\n",
    "\n",
    "import numpy as np\n",
    "import matplotlib.pyplot as plt\n",
    "import tensorflow as tf\n",
    "from tensorflow.keras.layers import Dense, Input\n",
    "from tensorflow.keras import Sequential\n",
    "from tensorflow.keras.losses import MeanSquaredError, BinaryCrossentropy\n",
    "from tensorflow.keras.activations import sigmoid\n"
   ]
  },
  {
   "cell_type": "markdown",
   "metadata": {},
   "source": [
    "Explicit way of builidng layers"
   ]
  },
  {
   "cell_type": "code",
   "execution_count": 8,
   "metadata": {},
   "outputs": [],
   "source": [
    "#input layer (layer 0)\n",
    "x = np.array([[200,17]])\n",
    "\n",
    "#layer 1\n",
    "layer_1 = Dense(units=3, activation = 'sigmoid')\n",
    "a1 = layer_1(x)"
   ]
  },
  {
   "cell_type": "code",
   "execution_count": 9,
   "metadata": {},
   "outputs": [
    {
     "data": {
      "text/plain": [
       "array([[0.0000000e+00, 1.6364962e-15, 1.0000000e+00]], dtype=float32)"
      ]
     },
     "execution_count": 9,
     "metadata": {},
     "output_type": "execute_result"
    }
   ],
   "source": [
    "a1.numpy()"
   ]
  },
  {
   "cell_type": "code",
   "execution_count": 13,
   "metadata": {},
   "outputs": [],
   "source": [
    "layer_2 = Dense(units=1, activation='sigmoid')\n",
    "a2 = layer_2(a1)"
   ]
  },
  {
   "cell_type": "code",
   "execution_count": 16,
   "metadata": {},
   "outputs": [
    {
     "name": "stdout",
     "output_type": "stream",
     "text": [
      "tf.Tensor([[0.38789332]], shape=(1, 1), dtype=float32)\n"
     ]
    }
   ],
   "source": [
    "print(a2)"
   ]
  },
  {
   "cell_type": "code",
   "execution_count": 17,
   "metadata": {},
   "outputs": [
    {
     "data": {
      "text/plain": [
       "array([[0.38789332]], dtype=float32)"
      ]
     },
     "execution_count": 17,
     "metadata": {},
     "output_type": "execute_result"
    }
   ],
   "source": [
    "#convert from tensorflow tensor to numpy array by,\n",
    "a2.numpy()"
   ]
  },
  {
   "cell_type": "markdown",
   "metadata": {},
   "source": [
    "Building a Neural Network with TensorFlow\n"
   ]
  },
  {
   "cell_type": "code",
   "execution_count": 18,
   "metadata": {},
   "outputs": [],
   "source": [
    "layer_1 = Dense(units=3, activation='sigmoid')\n",
    "layer_2 = Dense(units=1, activation='sigmoid')\n",
    "\n",
    "model = Sequential([layer_1,layer_2])"
   ]
  },
  {
   "cell_type": "code",
   "execution_count": 20,
   "metadata": {},
   "outputs": [],
   "source": [
    "#preparing training data\n",
    "x_train = np.array([[90,5,2,3],[80,10,5,5],[70,10,3,17],[20,20,20,40]])\n",
    "y_train = np.array([60,50,80,40])"
   ]
  },
  {
   "cell_type": "markdown",
   "metadata": {},
   "source": [
    "Building a Neural Network with TensorFlow (Common Method)\n"
   ]
  },
  {
   "cell_type": "code",
   "execution_count": 94,
   "metadata": {},
   "outputs": [],
   "source": [
    "model = Sequential([\n",
    "    Dense(units = 8, activation='sigmoid', name='layer1'),  #layer 1\n",
    "    Dense(units = 1, activation='sigmoid', name='layer2')  #layer 2\n",
    "])"
   ]
  },
  {
   "cell_type": "code",
   "execution_count": 95,
   "metadata": {},
   "outputs": [
    {
     "name": "stdout",
     "output_type": "stream",
     "text": [
      "W1(4, 8):\n",
      " [[0. 0. 0. 0. 0. 0. 0. 0.]\n",
      " [0. 0. 0. 0. 0. 0. 0. 0.]\n",
      " [0. 0. 0. 0. 0. 0. 0. 0.]\n",
      " [0. 0. 0. 0. 0. 0. 0. 0.]] \n",
      "b1(4, 1): [[0.]\n",
      " [0.]\n",
      " [0.]\n",
      " [0.]]\n",
      "W2(8, 1):\n",
      " [[0.]\n",
      " [0.]\n",
      " [0.]\n",
      " [0.]\n",
      " [0.]\n",
      " [0.]\n",
      " [0.]\n",
      " [0.]] \n",
      "b2(1, 1): [[0.]]\n"
     ]
    }
   ],
   "source": [
    "W1 = np.zeros((4,8))\n",
    "b1 = np.zeros((4,1))\n",
    "W2 = np.zeros((8,1))\n",
    "b2 = np.zeros((1,1))\n",
    "\n",
    "print(f\"W1{W1.shape}:\\n\", W1, f\"\\nb1{b1.shape}:\", b1)\n",
    "print(f\"W2{W2.shape}:\\n\", W2, f\"\\nb2{b2.shape}:\", b2)"
   ]
  },
  {
   "cell_type": "code",
   "execution_count": 96,
   "metadata": {},
   "outputs": [],
   "source": [
    "#preparing training data\n",
    "x_train = np.array([[90,5,2,3],[80,10,5,5],[70,10,3,17],[20,20,20,40]])\n",
    "y_train = np.array([60,50,80,40])"
   ]
  },
  {
   "cell_type": "code",
   "execution_count": 97,
   "metadata": {},
   "outputs": [
    {
     "name": "stdout",
     "output_type": "stream",
     "text": [
      "Epoch 1/10\n",
      "1/1 [==============================] - 0s 359ms/step - loss: -26.6019\n",
      "Epoch 2/10\n",
      "1/1 [==============================] - 0s 17ms/step - loss: -30.5485\n",
      "Epoch 3/10\n",
      "1/1 [==============================] - 0s 4ms/step - loss: -34.7100\n",
      "Epoch 4/10\n",
      "1/1 [==============================] - 0s 664us/step - loss: -39.2945\n",
      "Epoch 5/10\n",
      "1/1 [==============================] - 0s 43ms/step - loss: -44.6030\n",
      "Epoch 6/10\n",
      "1/1 [==============================] - 0s 0s/step - loss: -50.8675\n",
      "Epoch 7/10\n",
      "1/1 [==============================] - 0s 11ms/step - loss: -57.8467\n",
      "Epoch 8/10\n",
      "1/1 [==============================] - 0s 7ms/step - loss: -64.7003\n",
      "Epoch 9/10\n",
      "1/1 [==============================] - 0s 7ms/step - loss: -70.8900\n",
      "Epoch 10/10\n",
      "1/1 [==============================] - 0s 4ms/step - loss: -76.9770\n"
     ]
    },
    {
     "data": {
      "text/plain": [
       "<keras.src.callbacks.History at 0x29a442aa590>"
      ]
     },
     "execution_count": 97,
     "metadata": {},
     "output_type": "execute_result"
    }
   ],
   "source": [
    "model.compile(\n",
    "    loss = tf.keras.losses.BinaryCrossentropy(),\n",
    "    optimizer = tf.keras.optimizers.Adam(learning_rate=0.01),\n",
    ")\n",
    "\n",
    "model.fit(\n",
    "    x_train,\n",
    "    y_train,            \n",
    "    epochs=10,\n",
    ")"
   ]
  },
  {
   "cell_type": "code",
   "execution_count": 87,
   "metadata": {},
   "outputs": [
    {
     "name": "stdout",
     "output_type": "stream",
     "text": [
      "W1:\n",
      " [[ 0.31901187  0.23883422  0.15481189  0.39689976]\n",
      " [ 0.8529909   0.09766833 -0.49980727  0.13404495]\n",
      " [-0.58497673  0.5145656   0.66331476  0.4459043 ]\n",
      " [ 0.33178896  0.05501869 -0.5081375   0.8133088 ]] \n",
      "b1: [0.         0.00161118 0.07901712 0.        ]\n",
      "W2:\n",
      " [[-0.4163197]\n",
      " [ 0.3137244]\n",
      " [ 0.7785026]\n",
      " [-0.9287706]] \n",
      "b2: [0.09999251]\n"
     ]
    }
   ],
   "source": [
    "W1, b1 = model.get_layer(\"layer1\").get_weights()\n",
    "W2, b2 = model.get_layer(\"layer2\").get_weights()\n",
    "print(\"W1:\\n\", W1, \"\\nb1:\", b1)\n",
    "print(\"W2:\\n\", W2, \"\\nb2:\", b2)"
   ]
  },
  {
   "cell_type": "code",
   "execution_count": 108,
   "metadata": {},
   "outputs": [],
   "source": [
    "w = np.array([[1,-3,5],[2,4,-6]])"
   ]
  },
  {
   "cell_type": "code",
   "execution_count": 109,
   "metadata": {},
   "outputs": [
    {
     "name": "stdout",
     "output_type": "stream",
     "text": [
      "[1 2]\n"
     ]
    }
   ],
   "source": [
    "print(w[:,0])"
   ]
  },
  {
   "cell_type": "code",
   "execution_count": null,
   "metadata": {},
   "outputs": [],
   "source": []
  }
 ],
 "metadata": {
  "kernelspec": {
   "display_name": "Python 3",
   "language": "python",
   "name": "python3"
  },
  "language_info": {
   "codemirror_mode": {
    "name": "ipython",
    "version": 3
   },
   "file_extension": ".py",
   "mimetype": "text/x-python",
   "name": "python",
   "nbconvert_exporter": "python",
   "pygments_lexer": "ipython3",
   "version": "3.11.2"
  }
 },
 "nbformat": 4,
 "nbformat_minor": 2
}
